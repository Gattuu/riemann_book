{
 "cells": [
  {
   "cell_type": "markdown",
   "metadata": {},
   "source": [
    "# Riemann Problems and Jupyter Solutions\n",
    "\n",
    "### by David I. Ketcheson, Randall J. LeVeque, and Mauricio J. del Razo\n",
    "\n",
    "The Github repository containing these notebooks is https://github.com/clawpack/riemann_book.\n",
    "\n",
    "You can view html versions of some of these notebooks at http://www.clawpack.org/riemann_book/html/Index.html.\n",
    "\n",
    "**Parts I and II** of these notebooks will also be published by SIAM as a paperback book, and these are listed in [Index.ipynb](Index.ipynb).  The ones listed below are additional notebooks that cover more advanced topics and/or additional hyperbolic systems.\n",
    "\n"
   ]
  },
  {
   "cell_type": "markdown",
   "metadata": {},
   "source": [
    "\n",
    "\n",
    "\n",
    "## Part III: Riemann problems with spatially-varying flux\n",
    "  1. Advection\n",
    "  2. [Acoustics in heterogeneous media](Acoustics_heterogeneous.ipynb)\n",
    "  3. [Traffic with varying road conditions](Traffic_variable_speed.ipynb)\n",
    "  4. [Nonlinear elasticity in a heterogeneous medium](Nonlinear_elasticity.ipynb)\n",
    "  5. Ideal gas shock tube with different ratio of specific heats\n",
    "  6. [Euler equations with Tammann equation of state](Euler_equations_TammannEOS.ipynb)\n",
    "  \n",
    "## Part IV: Source terms\n",
    "  1. [Traffic with an on-ramp](Traffic_with_ramps.ipynb)\n",
    " \n",
    "## Part V: Non-classical problems\n",
    "  2. [Pressureless flow](Pressureless_flow.ipynb)\n",
    " \n",
    "## Part VI: Multidimensional systems\n",
    "  1. [Acoustics](http://nbviewer.jupyter.org/github/maojrs/ipynotebooks/blob/master/acoustics_riemann.ipynb) *[To be improved and incorporated into this project]*\n",
    "  2. [Elasticity](http://nbviewer.jupyter.org/github/maojrs/ipynotebooks/blob/master/elasticity_riemann.ipynb) *[To be improved and incorporated into this project]*\n",
    "  3. [The Kitchen Sink: shallow water in cylindrical coordinates](Kitchen_sink_problem.ipynb)"
   ]
  }
 ],
 "metadata": {
  "kernelspec": {
   "display_name": "Python 3",
   "language": "python",
   "name": "python3"
  },
  "language_info": {
   "codemirror_mode": {
    "name": "ipython",
    "version": 3
   },
   "file_extension": ".py",
   "mimetype": "text/x-python",
   "name": "python",
   "nbconvert_exporter": "python",
   "pygments_lexer": "ipython3",
   "version": "3.6.5"
  },
  "toc": {
   "base_numbering": 1,
   "nav_menu": {},
   "number_sections": true,
   "sideBar": true,
   "skip_h1_title": false,
   "title_cell": "Table of Contents",
   "title_sidebar": "Contents",
   "toc_cell": false,
   "toc_position": {},
   "toc_section_display": "block",
   "toc_window_display": false
  }
 },
 "nbformat": 4,
 "nbformat_minor": 1
}
